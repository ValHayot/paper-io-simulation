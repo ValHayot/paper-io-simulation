{
 "cells": [
  {
   "cell_type": "code",
   "execution_count": 6,
   "metadata": {},
   "outputs": [],
   "source": [
    "import plot\n",
    "import csv\n",
    "from components import IOManager\n",
    "from components import File\n",
    "from components import Storage\n",
    "from components import MemoryManager"
   ]
  },
  {
   "cell_type": "code",
   "execution_count": 2,
   "metadata": {},
   "outputs": [],
   "source": [
    "# Functions to export log files\n",
    "def export_mem(mem_log, filename):\n",
    "    with open(filename, 'w', newline='') as csvfile:\n",
    "        writer = csv.writer(csvfile)\n",
    "        writer.writerow([\"time\", \"total_mem\", \"dirty\", \"cache\", \"used_mem\"])\n",
    "        for i in range(len(mm.get_log()[\"time\"])):\n",
    "            writer.writerow([mem_log[\"time\"][i], mem_log[\"total\"][i], mem_log[\"dirty\"][i],\n",
    "                             mem_log[\"cache\"][i], mem_log[\"used\"][i]])\n",
    "\n",
    "\n",
    "def export_time(task_list, filename):\n",
    "    with open(filename, 'w', newline='') as csvfile:\n",
    "        writer = csv.writer(csvfile)\n",
    "        writer.writerow([\"type\", \"start\", \"end\"])\n",
    "        for i in range(len(task_list)):\n",
    "            writer.writerow([task_list[i][0], task_list[i][1], task_list[i][2]])"
   ]
  },
  {
   "cell_type": "code",
   "execution_count": 3,
   "metadata": {},
   "outputs": [],
   "source": [
    "# Create MemoryManager with 268600 MB of RAM \n",
    "# memory read bandwidth = 7100 MBps, memory write bandwidth = 3300 MBps\n",
    "mm = MemoryManager(268600, 268600, read_bw=7100, write_bw=3300)\n",
    "# Create local disk 450 GB, read bw = write bw = 465 MBps\n",
    "storage = Storage(450000, read_bw=465, write_bw=465)\n",
    "# kernel-like IOManager\n",
    "kernel = IOManager(mm, storage, dirty_ratio=0.4)\n",
    "\n",
    "# input size in MB\n",
    "input_size = 20000\n",
    "file1 = File(\"file1\", input_size, input_size)\n",
    "file2 = File(\"file2\", input_size, input_size)\n",
    "file3 = File(\"file3\", input_size, input_size)\n",
    "file4 = File(\"file4\", input_size, input_size)"
   ]
  },
  {
   "cell_type": "code",
   "execution_count": 4,
   "metadata": {},
   "outputs": [
    {
     "name": "stdout",
     "output_type": "stream",
     "text": [
      "0.00 Start reading file1\n",
      "\tPre-flush in 0.00 sec\n",
      "\tpdflush in 0.00 sec\n",
      "\tRead 20000 MB from disk in 43.01 sec\n",
      "71.01 Start writing file2 \n",
      "\tWrite to cache 20000 MB in 6.06 sec\n",
      "77.07 File file2 is written \n",
      "77.07 Start reading file2\n",
      "\tPre-flush in 0.00 sec\n",
      "\tRead 20000 MB from cache in 2.82 sec\n",
      "107.89 Start writing file3 \n",
      "\tWrite to cache 20000 MB in 6.06 sec\n",
      "113.95 File file3 is written \n",
      "113.95 Start reading file3\n",
      "\tPre-flush in 0.00 sec\n",
      "\tRead 20000 MB from cache in 2.82 sec\n",
      "144.77 Start writing file4 \n",
      "\tWrite to cache 20000 MB in 6.06 sec\n",
      "150.83 File file4 is written \n"
     ]
    }
   ],
   "source": [
    "# compute time in second\n",
    "compute_time = 28\n",
    "\n",
    "start_time = 0\n",
    "\n",
    "# Task 1\n",
    "task1_read_end = kernel.read(file1, start_time)\n",
    "task1_compute_end = kernel.compute(task1_read_end, compute_time)\n",
    "task1_write_end = kernel.write(file2, task1_compute_end)\n",
    "kernel.release(file2)\n",
    "\n",
    "# Task 2\n",
    "task2_read_end = kernel.read(file2, task1_write_end)\n",
    "task2_compute_end = kernel.compute(task2_read_end, compute_time)\n",
    "task2_write_end = kernel.write(file3, task2_compute_end)\n",
    "kernel.release(file3)\n",
    "\n",
    "# Task 3\n",
    "task3_read_end = kernel.read(file3, task2_write_end)\n",
    "task3_compute_end = kernel.compute(task3_read_end, compute_time)\n",
    "task3_write_end = kernel.write(file4, task3_compute_end)\n",
    "kernel.release(file4)"
   ]
  },
  {
   "cell_type": "code",
   "execution_count": 7,
   "metadata": {},
   "outputs": [],
   "source": [
    "# Export simulation results\n",
    "task_time = {\n",
    "    \"read_start\": [start_time, task1_write_end, task2_write_end],\n",
    "    \"read_end\": [task1_read_end, task2_read_end, task3_read_end],\n",
    "    \"write_start\": [task1_compute_end, task2_compute_end, task3_compute_end],\n",
    "    \"write_end\": [task1_write_end, task2_write_end, task3_write_end],\n",
    "\n",
    "}\n",
    "\n",
    "tasks = [(\"read\", start_time, task1_read_end), (\"write\", task1_compute_end, task1_write_end),\n",
    "         (\"read\", task1_write_end, task2_read_end), (\"write\", task2_compute_end, task2_write_end),\n",
    "         (\"read\", task2_write_end, task3_read_end), (\"write\", task3_compute_end, task3_write_end)]\n",
    "\n",
    "export_mem(mm.get_log(), \"../../result/single/pysim/%dgb_sim_mem.csv\" % int(input_size/1000))\n",
    "export_time(tasks, \"../../result/single/pysim/%dgb_sim_time.csv\" % int(input_size/1000))"
   ]
  },
  {
   "cell_type": "code",
   "execution_count": 8,
   "metadata": {},
   "outputs": [
    {
     "name": "stdout",
     "output_type": "stream",
     "text": [
      "Using matplotlib backend: MacOSX\n"
     ]
    }
   ],
   "source": [
    "%matplotlib\n",
    "plot.plot_mem_log(mm.get_log(), task_time, \"input = %d MB \\nmem_rb = %d MBps\\nmem_wb = %d MBps \\n\"\n",
    "                                           \"disk_rb = %d MBps\\ndisk_wb = %d MBps\"\n",
    "                  % (input_size, mm.read_bw, mm.write_bw,\n",
    "                     storage.read_bw, storage.write_bw),\n",
    "                  xmin=0, xmax=200, ymin=-10000, ymax=280000)"
   ]
  },
  {
   "cell_type": "code",
   "execution_count": null,
   "metadata": {},
   "outputs": [],
   "source": []
  }
 ],
 "metadata": {
  "kernelspec": {
   "display_name": "Python 3",
   "language": "python",
   "name": "python3"
  },
  "language_info": {
   "codemirror_mode": {
    "name": "ipython",
    "version": 3
   },
   "file_extension": ".py",
   "mimetype": "text/x-python",
   "name": "python",
   "nbconvert_exporter": "python",
   "pygments_lexer": "ipython3",
   "version": "3.7.6"
  }
 },
 "nbformat": 4,
 "nbformat_minor": 4
}
