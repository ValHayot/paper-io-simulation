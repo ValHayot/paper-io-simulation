{
 "cells": [
  {
   "cell_type": "code",
   "execution_count": 5,
   "metadata": {},
   "outputs": [],
   "source": [
    "import evaluate\n",
    "import matplotlib.pyplot as plt\n",
    "import numpy as np"
   ]
  },
  {
   "cell_type": "code",
   "execution_count": 2,
   "metadata": {},
   "outputs": [],
   "source": [
    "# Function to plot a groupd bar chart\n",
    "def grouped_bar_chart(labels, title, xlabel, ylabel, *argv):\n",
    "    x = np.arange(len(labels))  # the label locations\n",
    "    width = 0.2  # the width of the bars\n",
    "    bars = len(argv)\n",
    "\n",
    "    fig, ax = plt.subplots()\n",
    "    for i in range(len(argv)):\n",
    "        arg = argv[i]\n",
    "        ax.bar(x + (2 * i + 1 - bars) * width / 2, arg[1], width, label=arg[0])\n",
    "\n",
    "    ax.set_xlabel(xlabel)\n",
    "    ax.set_ylabel(ylabel)\n",
    "    ax.set_title(title)\n",
    "    ax.set_xticks(x)\n",
    "    ax.set_xticklabels(labels)\n",
    "    ax.set_ylim(bottom=0, top=8)\n",
    "    ax.legend()\n",
    "\n",
    "    plt.show()"
   ]
  },
  {
   "cell_type": "code",
   "execution_count": 3,
   "metadata": {},
   "outputs": [],
   "source": [
    "# Function to show simulation errors in a grouped bar chart\n",
    "def plot_task_error(size):\n",
    "    labels = [\"read1\", \"write1\", \"read2\", \"write2\", \"read3\", \"write3\"]\n",
    "\n",
    "    # atop_file =     \"log/cluster/100gb/atop_mem.log\"\n",
    "    real_time_log = \"real/%dgb/timestamps_pipeline.csv\" % size\n",
    "    sim_py_log = \"pysim/%dgb_sim_time.csv\" % size\n",
    "    simgrid_log = \"simgrid_org/timestamp_sim_exp1_%dgb.csv\" % size\n",
    "\n",
    "    py_error = evaluate.task_time_error(real_time_log, sim_py_log)\n",
    "    simgrid_error = evaluate.task_time_error(real_time_log, simgrid_log)\n",
    "\n",
    "    grouped_bar_chart(labels, \"Simulation error of tasks with %dGB\" % size, \"tasks\", \"error\",\n",
    "                      (\"Python\", py_error), (\"Original SimGrid\", simgrid_error))"
   ]
  },
  {
   "cell_type": "code",
   "execution_count": 8,
   "metadata": {},
   "outputs": [
    {
     "data": {
      "image/png": "[encoded data removed]",
      "text/plain": [
       "<Figure size 432x288 with 1 Axes>"
      ]
     },
     "metadata": {
      "needs_background": "light"
     },
     "output_type": "display_data"
    }
   ],
   "source": [
    "%matplotlib inline\n",
    "# Sizes of the input files\n",
    "sizes = [20, 50, 75, 100]\n",
    "for size in sizes:\n",
    "    plot_task_error(size)"
   ]
  },
  {
   "cell_type": "code",
   "execution_count": null,
   "metadata": {},
   "outputs": [],
   "source": []
  }
 ],
 "metadata": {
  "kernelspec": {
   "display_name": "Python 3",
   "language": "python",
   "name": "python3"
  },
  "language_info": {
   "codemirror_mode": {
    "name": "ipython",
    "version": 3
   },
   "file_extension": ".py",
   "mimetype": "text/x-python",
   "name": "python",
   "nbconvert_exporter": "python",
   "pygments_lexer": "ipython3",
   "version": "3.7.6"
  }
 },
 "nbformat": 4,
 "nbformat_minor": 4
}
