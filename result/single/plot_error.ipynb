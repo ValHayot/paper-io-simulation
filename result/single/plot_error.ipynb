{
 "cells": [
  {
   "cell_type": "markdown",
   "metadata": {},
   "source": [
    "Before plotting simulation errors, log files from real piepline and simulator should be put in corresponding directories with correct names. See README.md.\n",
    "\n",
    "Figures are generated and saved in `figures` directory."
   ]
  },
  {
   "cell_type": "code",
   "execution_count": 1,
   "metadata": {},
   "outputs": [],
   "source": [
    "import evaluate\n",
    "import matplotlib.pyplot as plt\n",
    "import numpy as np\n",
    "%matplotlib inline"
   ]
  },
  {
   "cell_type": "markdown",
   "metadata": {},
   "source": [
    "Defining functions to plot simulation errors"
   ]
  },
  {
   "cell_type": "code",
   "execution_count": 2,
   "metadata": {},
   "outputs": [],
   "source": [
    "# Function to plot a groupd bar chart\n",
    "def grouped_bar_chart(ax, labels, xlabel, ylabel, *argv):\n",
    "    x = np.arange(len(labels))  # the label locations\n",
    "    width = 0.2  # the width of the bars\n",
    "    bars = len(argv)\n",
    "\n",
    "    for i in range(len(argv)):\n",
    "        arg = argv[i]\n",
    "        ax.bar(x + (2 * i + 1 - bars) * width / 2, arg[1], width, label=arg[0], color=arg[2])\n",
    "\n",
    "    ax.set_xlabel(xlabel)\n",
    "    ax.set_ylabel(ylabel)\n",
    "    ax.set_xticks(x)\n",
    "    ax.set_xticklabels(labels)\n",
    "    ax.set_ylim(bottom=0, top=700)"
   ]
  },
  {
   "cell_type": "code",
   "execution_count": 3,
   "metadata": {},
   "outputs": [],
   "source": [
    "# Function to show simulation errors in a grouped bar chart\n",
    "def plot_task_error(ax, size):\n",
    "    labels = [\"read_1\", \"write_1\", \"read_2\", \"write_2\", \"read_3\", \"write_3\"]\n",
    "\n",
    "    # atop_file =     \"log/cluster/100gb/atop_mem.log\"\n",
    "    real_time_log = \"real/%dgb/timestamps.csv\" % size\n",
    "    sim_py_log = \"pysim/%dgb_sim_time.csv\" % size\n",
    "    simgrid_org_log = \"wrench/original/%dgb_sim_time.csv\" % size\n",
    "    simgrid_ext_log = \"wrench/pagecache/%dgb_sim_time.csv\" % size\n",
    "\n",
    "    py_error = [item * 100 for item in evaluate.task_time_error(real_time_log, sim_py_log)]\n",
    "    simgrid_org_error = [item * 100 for item in evaluate.task_time_error(real_time_log, simgrid_org_log)]\n",
    "    simgrid_ext_error = [item * 100 for item in evaluate.task_time_error(real_time_log, simgrid_ext_log)]\n",
    "\n",
    "    grouped_bar_chart(ax, labels, \"\", \"error (%)\",\n",
    "                      (\"Python simulator\", py_error, \"tab:pink\"), (\"Original WRENCH\", simgrid_org_error, 'tab:orange'),\n",
    "                      (\"WRENCH simulator with page cache\", simgrid_ext_error, 'tab:cyan'))\n",
    "    ax.set_title(\"%d GB\" % size)"
   ]
  },
  {
   "cell_type": "code",
   "execution_count": 4,
   "metadata": {},
   "outputs": [
    {
     "data": {
      "image/png": "[encoded data removed]",
      "text/plain": [
       "<Figure size 792x216 with 2 Axes>"
      ]
     },
     "metadata": {
      "needs_background": "light"
     },
     "output_type": "display_data"
    }
   ],
   "source": [
    "plt.rcParams.update({'font.size': 8})\n",
    "fig, (ax1, ax2) = plt.subplots(figsize=(11, 3), ncols=2, nrows=1)\n",
    "plot_task_error(ax1, 20)\n",
    "plot_task_error(ax2, 100)\n",
    "\n",
    "lgd = plt.legend(loc='upper center', bbox_to_anchor=(-0.2, 1.3), ncol=3)\n",
    "\n",
    "plt.savefig(\"figures/single_errors.svg\", format=\"svg\", bbox_extra_artists=(lgd,), bbox_inches='tight')\n",
    "plt.savefig(\"figures/single_errors.pdf\", format=\"pdf\", bbox_extra_artists=(lgd,), bbox_inches='tight')\n",
    "plt.subplots_adjust(left=0.1, bottom=0.1, right=0.95, top=0.7, wspace=0.3)\n",
    "plt.show()"
   ]
  }
 ],
 "metadata": {
  "kernelspec": {
   "display_name": "Python 3",
   "language": "python",
   "name": "python3"
  },
  "language_info": {
   "codemirror_mode": {
    "name": "ipython",
    "version": 3
   },
   "file_extension": ".py",
   "mimetype": "text/x-python",
   "name": "python",
   "nbconvert_exporter": "python",
   "pygments_lexer": "ipython3",
   "version": "3.7.6"
  }
 },
 "nbformat": 4,
 "nbformat_minor": 4
}
